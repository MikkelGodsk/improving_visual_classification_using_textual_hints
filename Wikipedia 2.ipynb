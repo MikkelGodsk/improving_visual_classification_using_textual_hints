{
 "cells": [
  {
   "cell_type": "markdown",
   "id": "8fa5e3cc",
   "metadata": {},
   "source": [
    "Using information from https://scholia.toolforge.org/work/Q108799588 and JSON file from https://github.com/DominikFilipiak/imagenet-to-wikidata-mapping"
   ]
  },
  {
   "cell_type": "markdown",
   "id": "9cbf7145",
   "metadata": {},
   "source": [
    "# Load mappings"
   ]
  },
  {
   "cell_type": "code",
   "execution_count": null,
   "id": "c1f053c4",
   "metadata": {},
   "outputs": [],
   "source": [
    "import json\n",
    "import os\n",
    "\n",
    "directory = 'C:\\\\Users\\\\mikke\\\\OneDrive\\\\Dokumenter\\\\DTU documents\\\\7. semester\\\\Bachelor projekt\\\\imagenet-to-wikidata-mapping-main\\\\imagenet-to-wikidata-mapping-main'\n",
    "fname = os.path.join(directory, 'mapping.json')\n",
    "\n",
    "with open(fname, 'r') as f_obj:\n",
    "    mappings = json.load(f_obj)\n",
    "\n",
    "for k, v in mappings.items():\n",
    "    mappings[k] = v.split('/')[-1]"
   ]
  },
  {
   "cell_type": "markdown",
   "id": "645984f5",
   "metadata": {},
   "source": [
    "# Get Wikipedia description"
   ]
  },
  {
   "cell_type": "code",
   "execution_count": null,
   "id": "c561733b",
   "metadata": {},
   "outputs": [],
   "source": [
    "from wikidata.client import Client\n",
    "\n",
    "client = Client()\n",
    "entity = client.get(list(mappings.values())[0], load=True)"
   ]
  },
  {
   "cell_type": "code",
   "execution_count": null,
   "id": "04d7e05c",
   "metadata": {},
   "outputs": [],
   "source": [
    "print(entity.data.keys())\n",
    "entity.data['labels']['en']['value']"
   ]
  },
  {
   "cell_type": "code",
   "execution_count": null,
   "id": "4c3244a0",
   "metadata": {},
   "outputs": [],
   "source": [
    "entity.data['sitelinks']['enwiki']['url']"
   ]
  },
  {
   "cell_type": "markdown",
   "id": "d97af63b",
   "metadata": {},
   "source": [
    "## Using a better wikipedia API wrapper\n",
    "https://github.com/martin-majlis/Wikipedia-API"
   ]
  },
  {
   "cell_type": "code",
   "execution_count": null,
   "id": "4830ae53",
   "metadata": {},
   "outputs": [],
   "source": [
    "import wikipediaapi as wiki\n",
    "import sys\n",
    "\n",
    "wiki_en = wiki.Wikipedia('en')\n",
    "\n",
    "articles = {}\n",
    "failures = []\n",
    "\n",
    "# Cache in case we would like to modify the policy and not have to make new queries.\n",
    "cache_wikidata = {}\n",
    "cache_wikipedia = {}\n",
    "\n",
    "use_cache = True\n",
    "\n",
    "i = 0\n",
    "for k, v in mappings.items():\n",
    "    i+=1\n",
    "    sys.stdout.flush()\n",
    "    sys.stdout.write('\\rProgress: {:.1f}%'.format(i / 1000 * 100))\n",
    "    entity = None\n",
    "    if v not in cache_wikidata.keys() or not use_cache:\n",
    "        entity = client.get(v, load=True)\n",
    "        cache_wikidata[v] = entity\n",
    "    else:\n",
    "        entity = cache_wikidata[v]\n",
    "    title = None\n",
    "    \n",
    "    # First look up Wikipedia page in Wikidata. Else search Wikipedia for its title. Else count as a failure\n",
    "    if 'enwiki' in entity.data['sitelinks'].keys():\n",
    "        title = entity.data['sitelinks']['enwiki']['title']\n",
    "    elif 'en' in entity.data['labels']:\n",
    "        title = entity.data['labels']['en']['value']\n",
    "    else:\n",
    "        failures.append(k)\n",
    "        continue\n",
    "        \n",
    "    if title not in cache_wikipedia.keys() or not use_cache:\n",
    "        article = wiki_en.page(title)\n",
    "        cache_wikipedia[title] = article\n",
    "    else:\n",
    "        article = cache_wikipedia[title]\n",
    "    if not article.exists():\n",
    "        failures.append(k)\n",
    "    else:\n",
    "        articles[k] = article\n",
    "    \n",
    "print('\\n')\n",
    "print(\"Number of failures: {}\".format(len(failures)))\n",
    "print(\"Failures:\")\n",
    "print(failures)"
   ]
  },
  {
   "cell_type": "markdown",
   "id": "48ffc6a0",
   "metadata": {},
   "source": [
    "### A closer look at the failures"
   ]
  },
  {
   "cell_type": "code",
   "execution_count": null,
   "id": "a5886ebb",
   "metadata": {},
   "outputs": [],
   "source": [
    "for failure in failures:\n",
    "    wikidata_id = mappings[failure]\n",
    "    print(client.get(wikidata_id, load=True))"
   ]
  },
  {
   "cell_type": "code",
   "execution_count": null,
   "id": "0160bc5c",
   "metadata": {},
   "outputs": [],
   "source": [
    "client.get(mappings[failures[0]], load=True).data['labels']['en']['value']"
   ]
  },
  {
   "cell_type": "code",
   "execution_count": null,
   "id": "4e64c6a8",
   "metadata": {},
   "outputs": [],
   "source": [
    "import nltk\n",
    "from nltk.corpus import wordnet as wn\n",
    "\n",
    "nltk.download('wordnet')\n",
    "\n",
    "mappings_reversed = {v:k for k, v in mappings.items()}\n",
    "\n",
    "get_synset_from_id = lambda synset_id: wn.synset_from_pos_and_offset(synset_id[0], int(synset_id[1:]))\n",
    "get_title_from_synset = lambda synset: synset.name().split('.')[0].replace('_', ' ')\n",
    "\n",
    "for failure in failures:\n",
    "    print('WordNet id: {} - Title: {}'.format(failure, get_title_from_synset(get_synset_from_id(failure))))"
   ]
  },
  {
   "cell_type": "markdown",
   "id": "14c4091a",
   "metadata": {},
   "source": [
    "Interestingly enough, some of the titles are not the same! I wonder what implications this might have.\n",
    "\n",
    "#### Fixing the failures\n",
    "- Racer could perhaps be substituted by Sports car?\n",
    "- Screen refers to 'the display that is electronically created on the surface of the large end of a cathode-ray tube'\n",
    "- etc.\n",
    "- Vestment exists on Wikipedia. I guess some information was lost.\n",
    "\n",
    "Perhaps I should just leave those alone?"
   ]
  },
  {
   "cell_type": "code",
   "execution_count": null,
   "id": "4376eae6",
   "metadata": {},
   "outputs": [],
   "source": [
    "get_synset_from_id('n04152593').definition()"
   ]
  },
  {
   "cell_type": "markdown",
   "id": "73616f40",
   "metadata": {},
   "source": [
    "#### Investigating the difference in the titles"
   ]
  },
  {
   "cell_type": "code",
   "execution_count": null,
   "id": "32be9317",
   "metadata": {},
   "outputs": [],
   "source": [
    "for wnid, article in articles.items():\n",
    "    wordnet_title = get_title_from_synset(get_synset_from_id(wnid)).lower()\n",
    "    article_title = article.title.lower()\n",
    "    if wordnet_title not in article_title and wordnet_title not in article.summary.lower():\n",
    "        print(\"WordNet id: {} - WordNet title: {} - Wikipedia title: {}\".format(wnid, wordnet_title, article_title))"
   ]
  },
  {
   "cell_type": "markdown",
   "id": "3a8b9200",
   "metadata": {},
   "source": [
    "Number of discrepancies: 125<br>\n",
    "\n",
    "It does seem that most of them are alright, however for e.g. 'green mamba', it has been linked simply to 'mamba' although there are multiple pages on Wikipedia about the different green mamba species."
   ]
  },
  {
   "cell_type": "markdown",
   "id": "f423ef80",
   "metadata": {},
   "source": [
    "## Getting the descriptions"
   ]
  },
  {
   "cell_type": "code",
   "execution_count": null,
   "id": "04e4f6dd",
   "metadata": {},
   "outputs": [],
   "source": [
    "articles['n04548280'].summary  # Should have been a wallclock, but is instead a clock"
   ]
  },
  {
   "cell_type": "code",
   "execution_count": null,
   "id": "b6ac5330",
   "metadata": {},
   "outputs": [],
   "source": [
    "articles['n04548280'].summary.split('.')"
   ]
  },
  {
   "cell_type": "code",
   "execution_count": null,
   "id": "455bbccf",
   "metadata": {},
   "outputs": [],
   "source": [
    "def prepare_sentences(desc):\n",
    "    s = desc.split('.')\n",
    "    sentences = []\n",
    "    for i, sentence in enumerate(s):\n",
    "        if sentence != '':\n",
    "            sentences.append(sentence.replace('\\n', '').lstrip())\n",
    "    return sentences\n",
    "        \n",
    "prepare_sentences(articles['n03297495'].summary)"
   ]
  },
  {
   "cell_type": "markdown",
   "id": "1bb906eb",
   "metadata": {},
   "source": [
    "Idea: Perhaps we should just mask out the actual word in the validation set?"
   ]
  },
  {
   "cell_type": "code",
   "execution_count": null,
   "id": "fdc251d5",
   "metadata": {
    "scrolled": true
   },
   "outputs": [],
   "source": [
    "summaries = {}\n",
    "length = len(articles)\n",
    "i=0\n",
    "for k, v in articles.items():\n",
    "    i+=1\n",
    "    sys.stdout.flush()\n",
    "    sys.stdout.write('\\rProgress: {:.1f}%'.format((i+1)/length * 100))\n",
    "    summaries[k] = v.summary#.replace('\\n', ' ')\n",
    "    \n",
    "summaries"
   ]
  },
  {
   "cell_type": "code",
   "execution_count": null,
   "id": "7e547c1d",
   "metadata": {},
   "outputs": [],
   "source": [
    "with open('wiki_descriptions.json', 'w') as f_obj:\n",
    "    json.dump(summaries, f_obj)"
   ]
  },
  {
   "cell_type": "code",
   "execution_count": null,
   "id": "362af339",
   "metadata": {},
   "outputs": [],
   "source": [
    "import os\n",
    "os.getcwd()"
   ]
  },
  {
   "cell_type": "code",
   "execution_count": null,
   "id": "69643899",
   "metadata": {},
   "outputs": [],
   "source": [
    "with open('wiki_descriptions.json', 'r') as f_obj:\n",
    "    desc_loaded = json.load(f_obj)\n"
   ]
  },
  {
   "cell_type": "code",
   "execution_count": null,
   "id": "9d9e9733",
   "metadata": {},
   "outputs": [],
   "source": [
    "length_sum = 0\n",
    "no_sentences = 0  # Should be 1000\n",
    "max_length = 0\n",
    "min_length = 10**10  # Just sufficiently large\n",
    "lengths = []\n",
    "\n",
    "for label, definition in desc_loaded.items():\n",
    "    for s in definition.replace('\\n', ' ').split('. '):\n",
    "        length = len(s.split())\n",
    "        length_sum += length\n",
    "        no_sentences += 1\n",
    "        if length > max_length:\n",
    "            max_length = length\n",
    "        if length < min_length:\n",
    "            min_length = length\n",
    "        lengths.append(length)\n",
    "\n",
    "print(\"Average length of hints: {}\".format(length_sum/no_sentences))\n",
    "print(\"Max length: {}\\t Min length: {}\".format(max_length, min_length))"
   ]
  },
  {
   "cell_type": "code",
   "execution_count": null,
   "id": "57b87cf9",
   "metadata": {},
   "outputs": [],
   "source": [
    "import matplotlib.pyplot as plt\n",
    "import numpy as np\n",
    "\n",
    "plt.figure(figsize=(9,5))\n",
    "plt.hist(lengths, bins=np.arange(0,max_length+1,2), edgecolor='black')\n",
    "plt.title(\"Distribution of the lengths of sentences from the Wikipedia descriptions\")\n",
    "plt.xlabel(\"Sentence length (no. words)\")\n",
    "plt.ylabel(\"No. occurrences\")\n",
    "plt.xlim([0,max_length])\n",
    "#plt.axis('off')\n",
    "#plt.gca().set_position([0, 0, 1, 1])\n",
    "plt.savefig(\"wikipediadistr.svg\")"
   ]
  },
  {
   "cell_type": "code",
   "execution_count": null,
   "id": "95a040bd",
   "metadata": {},
   "outputs": [],
   "source": [
    "len(lengths)"
   ]
  },
  {
   "cell_type": "code",
   "execution_count": null,
   "id": "ac8eabb4",
   "metadata": {},
   "outputs": [],
   "source": []
  },
  {
   "cell_type": "markdown",
   "id": "9be03525",
   "metadata": {},
   "source": [
    "import os \n",
    "\n",
    "os.getcwd()"
   ]
  },
  {
   "cell_type": "code",
   "execution_count": null,
   "id": "5bd1afb5",
   "metadata": {},
   "outputs": [],
   "source": []
  }
 ],
 "metadata": {
  "kernelspec": {
   "display_name": "Python 3",
   "language": "python",
   "name": "python3"
  },
  "language_info": {
   "codemirror_mode": {
    "name": "ipython",
    "version": 3
   },
   "file_extension": ".py",
   "mimetype": "text/x-python",
   "name": "python",
   "nbconvert_exporter": "python",
   "pygments_lexer": "ipython3",
   "version": "3.6.13"
  }
 },
 "nbformat": 4,
 "nbformat_minor": 5
}
